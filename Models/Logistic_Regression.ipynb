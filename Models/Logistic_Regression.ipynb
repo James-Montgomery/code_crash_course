{
 "cells": [
  {
   "cell_type": "code",
   "execution_count": 1,
   "metadata": {
    "collapsed": true
   },
   "outputs": [],
   "source": [
    "import numpy as np\n",
    "import matplotlib.pyplot as plt"
   ]
  },
  {
   "cell_type": "markdown",
   "metadata": {},
   "source": [
    "### Ordinary Least Squares Binary Logistic Regression"
   ]
  },
  {
   "cell_type": "code",
   "execution_count": 243,
   "metadata": {
    "collapsed": true
   },
   "outputs": [],
   "source": [
    "class logistic_regression_sgd(object):\n",
    "    \n",
    "    def __init__(self):\n",
    "        self.w = None\n",
    "        \n",
    "    def preprocess(self,x,y=None):\n",
    "        if len(x.shape) == 1:\n",
    "            x = x.reshape(-1,1)\n",
    "        x = np.concatenate([np.ones(x.shape[0]).reshape(-1,1),x],axis=1)\n",
    "        if y is not None:\n",
    "            y = y.reshape(-1,1)\n",
    "        return x,y\n",
    "    \n",
    "    def sigmoid(self,z):\n",
    "        return 1.0 / (1.0 + np.exp(-1.0*z))\n",
    "    \n",
    "    def get_gradient(self, w, x, y):\n",
    "        y_estimate = self.sigmoid(x.dot(w).flatten())        \n",
    "        error = (y.flatten() - y_estimate)        \n",
    "        gradient = -(1.0/len(x)) * error.dot(x)\n",
    "        return gradient.T\n",
    "        \n",
    "    def train(self,x,y):\n",
    "        x,y = self.preprocess(x,y)\n",
    "        self.w = np.random.normal(0,10,x.shape[1])\n",
    "        \n",
    "        alpha = 0.01\n",
    "        tolerance = 10e-3\n",
    "        max_epochs = 100000\n",
    "        epochs = 0\n",
    "        \n",
    "        while True:\n",
    "            gradient = self.get_gradient(self.w,x,y) \n",
    "            self.w -= (1.0/x.shape[0])*alpha*gradient\n",
    "            epochs += 1\n",
    "            \n",
    "            #print self.brier_score(self.sigmoid(x.dot(self.w)),y)\n",
    "            \n",
    "            if np.sum(abs(gradient)) < 10e-15 or epochs >= max_epochs:\n",
    "                print epochs\n",
    "                break\n",
    "         \n",
    "    def predict(self,x):\n",
    "        x,_ = self.preprocess(x)\n",
    "        return self.sigmoid(x.dot(self.w))\n",
    "    \n",
    "    def brier_score(self,y_pred,y):\n",
    "        return (1.0/y.shape[0])*np.sum((y_pred - y)**2)\n",
    "    \n",
    "    def get_params(self):\n",
    "        return self.w"
   ]
  },
  {
   "cell_type": "code",
   "execution_count": 244,
   "metadata": {},
   "outputs": [
    {
     "name": "stdout",
     "output_type": "stream",
     "text": [
      "100000\n",
      "100000\n"
     ]
    },
    {
     "data": {
      "image/png": "[encoded data removed]",
      "text/plain": [
       "<matplotlib.figure.Figure at 0x113c47690>"
      ]
     },
     "metadata": {},
     "output_type": "display_data"
    }
   ],
   "source": [
    "# deterministic test case\n",
    "X = np.array([[1,2,3],[2,3,4],[3,4,5],[4,5,6]])\n",
    "Y = np.array([0,0,1,1]).T\n",
    "\n",
    "model = logistic_regression_sgd()\n",
    "model.train(X,Y)\n",
    "predictions = model.predict(X)\n",
    "brier_score = model.brier_score(predictions,Y)\n",
    "params = model.get_params()\n",
    "\n",
    "# random variable test case\n",
    "X = np.linspace(0,10,100).reshape(-1,1)\n",
    "Y = np.concatenate([np.ones(50),np.zeros(50)])\n",
    "np.random.shuffle( Y[40:60] )\n",
    "\n",
    "model2 = logistic_regression_sgd()\n",
    "model2.train(X,Y)\n",
    "predictions2 = model2.predict(X)\n",
    "brier_score = model2.brier_score(predictions2,Y)\n",
    "params2 = model2.get_params()\n",
    "\n",
    "plt.scatter(X,Y)\n",
    "plt.plot(X,predictions2,c='r')\n",
    "plt.show()"
   ]
  },
  {
   "cell_type": "markdown",
   "metadata": {},
   "source": [
    "### Ordinary Least Squares Multinomial Linear Regression"
   ]
  },
  {
   "cell_type": "code",
   "execution_count": 2,
   "metadata": {
    "collapsed": true
   },
   "outputs": [],
   "source": [
    "n = 100\n",
    "cov = [[5,0],[0,5]]\n",
    "\n",
    "x1 = np.random.multivariate_normal(mean=[2,10],cov=cov,size=n)\n",
    "y1 = np.zeros(n)\n",
    "x2 = np.random.multivariate_normal(mean=[8,10],cov=cov,size=n)\n",
    "y2 = np.ones(n)\n",
    "x3 = np.random.multivariate_normal(mean=[6,3],cov=cov,size=n)\n",
    "y3 = np.ones(n)*2\n",
    "\n",
    "x = np.concatenate([x1,x2,x3])\n",
    "y = np.concatenate([y1,y2,y3]).reshape(-1,1)\n",
    "\n",
    "plt.scatter(x[:,0],x[:,1],c=y)\n",
    "plt.show()"
   ]
  },
  {
   "cell_type": "code",
   "execution_count": 34,
   "metadata": {
    "collapsed": true
   },
   "outputs": [],
   "source": [
    "class logistic_regression_sgd(object):\n",
    "    def __init__(self):\n",
    "        self.w = {}\n",
    "        \n",
    "    def preprocess(self,x,y=None):\n",
    "        if len(x.shape) == 1:\n",
    "            x = x.reshape(-1,1)\n",
    "        x = np.insert(x, 0, 1, axis=1)\n",
    "        if y is not None:\n",
    "            y = y.reshape(-1,1)\n",
    "        return x, y\n",
    "    \n",
    "    def sigmoid(self,z):\n",
    "        return 1.0 / (1.0 + np.exp(-z))\n",
    "    \n",
    "    def get_gradient(self,w,x,y):\n",
    "        y_pred = self.sigmoid(x.dot(w))\n",
    "        errors = y.flatten() - y_pred.flatten()\n",
    "        gradient = (-1.0/x.shape[0])*errors.dot(x)\n",
    "        return gradient.T\n",
    "    \n",
    "    def train(self,x,y):\n",
    "        x,y = self.preprocess(x,y)\n",
    "        \n",
    "        eta = 0.1\n",
    "        n_iter = 300000\n",
    "        m = x.shape[0]\n",
    "        \n",
    "        for i in np.unique(y):\n",
    "            y_train = np.where(y == i,1,0)\n",
    "            \n",
    "            w_i = np.random.normal(0,10,x.shape[1]) \n",
    "            \n",
    "            for epoch in range(n_iter):\n",
    "                gradient = self.get_gradient(w_i,x,y_train)\n",
    "                w_i -= (1.0/m)*eta*gradient\n",
    "                \n",
    "            self.w[int(i)] = w_i\n",
    "                \n",
    "        return None\n",
    "    \n",
    "    def predict(self,x,prob=False):\n",
    "        x,_ = self.preprocess(x)\n",
    "        predictions = []\n",
    "        for i in self.w.keys():\n",
    "            w_i = self.w[int(i)]\n",
    "            y_pred = self.sigmoid(x.dot(w_i))\n",
    "            predictions.append(y_pred)\n",
    "        if prob == False:\n",
    "            predictions = np.array(predictions).T.argmax(axis=1).reshape(-1,1)\n",
    "        else:\n",
    "            predictions = np.array(predictions).T \n",
    "            predictions = predictions / predictions.sum(axis=1).reshape(-1,1)\n",
    "        return predictions\n",
    "    \n",
    "    def accuracy(self,y_pred,y):\n",
    "        return 1.0 * y[y == y_pred].shape[0] / y.shape[0]\n",
    "    \n",
    "    def get_params(self):\n",
    "        return self.w\n",
    "        "
   ]
  },
  {
   "cell_type": "code",
   "execution_count": 41,
   "metadata": {},
   "outputs": [
    {
     "name": "stdout",
     "output_type": "stream",
     "text": [
      "0.883333333333\n"
     ]
    }
   ],
   "source": [
    "model = logistic_regression_sgd()\n",
    "model.train(x,y)\n",
    "model.get_params()\n",
    "predictions = model.predict(x)\n",
    "accuracy = model.accuracy(predictions,y)\n",
    "params = model.get_params()\n",
    "print accuracy"
   ]
  },
  {
   "cell_type": "code",
   "execution_count": null,
   "metadata": {
    "collapsed": true
   },
   "outputs": [],
   "source": []
  }
 ],
 "metadata": {
  "kernelspec": {
   "display_name": "Python 2",
   "language": "python",
   "name": "python2"
  },
  "language_info": {
   "codemirror_mode": {
    "name": "ipython",
    "version": 2
   },
   "file_extension": ".py",
   "mimetype": "text/x-python",
   "name": "python",
   "nbconvert_exporter": "python",
   "pygments_lexer": "ipython2",
   "version": "2.7.13"
  }
 },
 "nbformat": 4,
 "nbformat_minor": 2
}
