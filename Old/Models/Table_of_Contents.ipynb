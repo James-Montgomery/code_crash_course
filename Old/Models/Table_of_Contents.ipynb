{
 "cells": [
  {
   "cell_type": "markdown",
   "metadata": {},
   "source": [
    "## Models\n",
    "\n",
    "* Linear Regression\n",
    "    * Ordinary Least Squares\n",
    "    * Stochastic Gradient Descent\n",
    "* Logistic Regression\n",
    "    * Binary\n",
    "    * Multinomial (One vs All)\n",
    "* Linear Discriminant Analysis\n",
    "    * Gaussian Discriminant Analysis\n",
    "* Quadratic Discriminant Analysis\n",
    "    * Gaussian Discriminant Analysis\n",
    "* Naive Bayes\n",
    "    * Continuous\n",
    "    * Discrete\n",
    "* ~~Gaussian Mixture Model~~\n",
    "* ~~K Means~~\n",
    "* Gaussian Process\n",
    "    * Regression\n",
    "    * Binary Classifier\n",
    "    * Multinomial Classifier (One vs All)\n",
    "\n",
    "#### Next Steps\n",
    "* Decision Tree\n",
    "* Random Forest Model\n",
    "* Gradient Boosted Machine\n",
    "* Polynomial Regression\n",
    "* LOWESS Regression\n",
    "* Spline Regression\n",
    "* Kernel Density Estimation\n",
    "* Simple Feed Foward Nueral Net\n",
    "* Markov Decision Process\n",
    "* Markov Chain\n",
    "* Hidden Markov Model\n",
    "* Survival Trees\n",
    "* Knowledge Graphs\n",
    "    \n",
    "## Calculations\n",
    "\n",
    "* Multivariate Mean\n",
    "* Multivariate Covariance\n",
    "* Auto Correlation\n",
    "* Partial Auto Correlation"
   ]
  },
  {
   "cell_type": "markdown",
   "metadata": {
    "collapsed": true
   },
   "source": [
    "* https://machinelearningmastery.com/implement-random-forest-scratch-python/\n",
    "* https://medium.com/mlreview/gradient-boosting-from-scratch-1e317ae4587d\n",
    "* https://www.analyticsvidhya.com/blog/2018/03/introduction-regression-splines-python-codes/"
   ]
  },
  {
   "cell_type": "code",
   "execution_count": null,
   "metadata": {
    "collapsed": true
   },
   "outputs": [],
   "source": []
  }
 ],
 "metadata": {
  "kernelspec": {
   "display_name": "Python 2",
   "language": "python",
   "name": "python2"
  },
  "language_info": {
   "codemirror_mode": {
    "name": "ipython",
    "version": 2
   },
   "file_extension": ".py",
   "mimetype": "text/x-python",
   "name": "python",
   "nbconvert_exporter": "python",
   "pygments_lexer": "ipython2",
   "version": "2.7.13"
  }
 },
 "nbformat": 4,
 "nbformat_minor": 2
}
