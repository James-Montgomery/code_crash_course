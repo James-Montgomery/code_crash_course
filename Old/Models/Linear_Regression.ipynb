{
 "cells": [
  {
   "cell_type": "code",
   "execution_count": 79,
   "metadata": {
    "collapsed": true
   },
   "outputs": [],
   "source": [
    "import numpy as np\n",
    "import matplotlib.pyplot as plt"
   ]
  },
  {
   "cell_type": "markdown",
   "metadata": {},
   "source": [
    "### Ordinary Least Squares Linear Regression"
   ]
  },
  {
   "cell_type": "code",
   "execution_count": 206,
   "metadata": {
    "collapsed": true
   },
   "outputs": [],
   "source": [
    "class linear_regression_ols(object):\n",
    "    def __init__(self):\n",
    "        self.w = None\n",
    "        \n",
    "    def preprocess(self,x,y=None):\n",
    "        if len(x.shape) == 1:\n",
    "            x = x.reshape(-1,1)\n",
    "        x = np.concatenate([np.ones(x.shape[0]).reshape(-1,1),x],axis=1)\n",
    "        if y is not None:\n",
    "            y = y.reshape(-1,1)\n",
    "        return x,y\n",
    "        \n",
    "    def train(self,x,y):\n",
    "        x,y = self.preprocess(x,y)\n",
    "        diag = np.eye(x.shape[1])*10e-15\n",
    "        self.w = np.dot(np.linalg.inv(x.T.dot(x)+diag),x.T.dot(y))\n",
    "    \n",
    "    def predict(self,x):\n",
    "        x,_ = self.preprocess(x)\n",
    "        return x.dot(self.w)\n",
    "    \n",
    "    def get_params(self):\n",
    "        return self.w\n",
    "    \n",
    "    def rmse(self,y_pred,y):\n",
    "        return ((1.0/y.shape[0])*np.sum((y_pred.reshape(-1,1)-y.reshape(-1,1))**2))**(0.5)"
   ]
  },
  {
   "cell_type": "code",
   "execution_count": 207,
   "metadata": {},
   "outputs": [
    {
     "data": {
      "image/png": "[encoded data removed]",
      "text/plain": [
       "<matplotlib.figure.Figure at 0x10636dad0>"
      ]
     },
     "metadata": {},
     "output_type": "display_data"
    }
   ],
   "source": [
    "# deterministic test case\n",
    "X = np.array([[1,2,3],[2,3,4],[3,4,5],[4,5,6]])\n",
    "Y = np.array([9,10,11,12]).T\n",
    "\n",
    "model = linear_regression_ols()\n",
    "model.train(X,Y)\n",
    "predictions = model.predict(X)\n",
    "rmse = model.rmse(predictions,Y)\n",
    "params = model.get_params()\n",
    "\n",
    "# random variable test case\n",
    "X = np.linspace(0,10,100).reshape(-1,1)\n",
    "Y = X * 1.75 + np.random.normal(0,3,X.shape[0]).reshape(-1,1)\n",
    "\n",
    "model2 = linear_regression_ols()\n",
    "model2.train(X,Y)\n",
    "predictions2 = model2.predict(X)\n",
    "rmse2 = model2.rmse(predictions2,Y)\n",
    "params2 = model2.get_params()\n",
    "\n",
    "plt.scatter(X,Y)\n",
    "plt.plot(X,predictions2,c='r')\n",
    "plt.show()"
   ]
  },
  {
   "cell_type": "markdown",
   "metadata": {},
   "source": [
    "### Stochastic Gradient Descent Linear Regression"
   ]
  },
  {
   "cell_type": "code",
   "execution_count": 208,
   "metadata": {
    "collapsed": true
   },
   "outputs": [],
   "source": [
    "class linear_regression_sgd(object):\n",
    "    def __init__(self):\n",
    "        self.w = None\n",
    "        \n",
    "    def preprocess(self,x,y=None):\n",
    "        if len(x.shape) == 1:\n",
    "            x = x.reshape(-1,1)\n",
    "        x = np.concatenate([np.ones(x.shape[0]).reshape(-1,1),x],axis=1)\n",
    "        if y is not None:\n",
    "            y = y.reshape(-1,1)\n",
    "        return x,y\n",
    "    \n",
    "    def get_gradient(self, w, x, y):\n",
    "        y_estimate = x.dot(w).flatten()        \n",
    "        error = (y.flatten() - y_estimate)        \n",
    "        gradient = -(1.0/len(x)) * error.dot(x)\n",
    "        return gradient.T\n",
    "    \n",
    "    def train(self,x,y,alpha = 0.01):\n",
    "        x,y = self.preprocess(x,y)\n",
    "        self.w = np.random.normal(0,10,x.shape[1])\n",
    "                \n",
    "        tolerance = .01\n",
    "        max_epoch = 10000\n",
    "        epoch = 0\n",
    "        \n",
    "        while True:\n",
    "            gradient = self.get_gradient(self.w,x,y)\n",
    "            self.w -= alpha*gradient\n",
    "            epoch +=1\n",
    "            if epoch % 100 == 0:\n",
    "                #print(\"Epoch: {}\".format(epoch))\n",
    "                pass\n",
    "            if np.sum(abs(gradient)) <= tolerance or epoch >= max_epoch:\n",
    "                break\n",
    "            \n",
    "    def predict(self,x):\n",
    "        x,_ = self.preprocess(x)\n",
    "        return x.dot(self.w)\n",
    "            \n",
    "    def rmse(self,y_pred,y):\n",
    "        return ((1.0/y.shape[0])*np.sum((y_pred.reshape(-1,1)-y.reshape(-1,1))**2))**(0.5)\n",
    "        \n",
    "    def get_params(self):\n",
    "        return self.w"
   ]
  },
  {
   "cell_type": "code",
   "execution_count": 209,
   "metadata": {},
   "outputs": [
    {
     "data": {
      "image/png": "[encoded data removed]",
      "text/plain": [
       "<matplotlib.figure.Figure at 0x105d6d110>"
      ]
     },
     "metadata": {},
     "output_type": "display_data"
    }
   ],
   "source": [
    "# deterministic test case\n",
    "X = np.array([[1,2,3],[2,3,4],[3,4,5],[4,5,6]])\n",
    "Y = np.array([9,10,11,12]).T\n",
    "\n",
    "model = linear_regression_sgd()\n",
    "model.train(X,Y)\n",
    "predictions = model.predict(X)\n",
    "rmse = model.rmse(predictions,Y)\n",
    "params = model.get_params()\n",
    "\n",
    "# random variable test case\n",
    "X = np.linspace(0,10,100).reshape(-1,1)\n",
    "Y = X * 5.75 + np.random.normal(0,10,X.shape[0]).reshape(-1,1)\n",
    "\n",
    "model2 = linear_regression_sgd()\n",
    "model2.train(X,Y)\n",
    "predictions2 = model2.predict(X)\n",
    "rmse2 = model2.rmse(predictions2,Y)\n",
    "params2 = model2.get_params()\n",
    "\n",
    "plt.scatter(X,Y)\n",
    "plt.plot(X,predictions2,c='r')\n",
    "plt.show()"
   ]
  },
  {
   "cell_type": "code",
   "execution_count": null,
   "metadata": {
    "collapsed": true
   },
   "outputs": [],
   "source": []
  }
 ],
 "metadata": {
  "kernelspec": {
   "display_name": "Python 2",
   "language": "python",
   "name": "python2"
  },
  "language_info": {
   "codemirror_mode": {
    "name": "ipython",
    "version": 2
   },
   "file_extension": ".py",
   "mimetype": "text/x-python",
   "name": "python",
   "nbconvert_exporter": "python",
   "pygments_lexer": "ipython2",
   "version": "2.7.13"
  }
 },
 "nbformat": 4,
 "nbformat_minor": 2
}
